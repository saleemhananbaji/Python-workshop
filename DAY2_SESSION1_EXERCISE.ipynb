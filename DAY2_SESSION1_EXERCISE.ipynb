{
  "nbformat": 4,
  "nbformat_minor": 0,
  "metadata": {
    "colab": {
      "name": "Untitled4.ipynb",
      "provenance": [],
      "collapsed_sections": [],
      "authorship_tag": "ABX9TyOBpABx2vYQiVugdRv3bC8g",
      "include_colab_link": true
    },
    "kernelspec": {
      "name": "python3",
      "display_name": "Python 3"
    }
  },
  "cells": [
    {
      "cell_type": "markdown",
      "metadata": {
        "id": "view-in-github",
        "colab_type": "text"
      },
      "source": [
        "<a href=\"https://colab.research.google.com/github/saleemhananbaji/Python-workshop/blob/master/DAY2_SESSION1_EXERCISE.ipynb\" target=\"_parent\"><img src=\"https://colab.research.google.com/assets/colab-badge.svg\" alt=\"Open In Colab\"/></a>"
      ]
    },
    {
      "cell_type": "markdown",
      "metadata": {
        "id": "g5-CAbKzH9_N",
        "colab_type": "text"
      },
      "source": [
        "#Python program to print multiples of 3 upto 200 using a list¶"
      ]
    },
    {
      "cell_type": "code",
      "metadata": {
        "id": "lKZIUGCoJ-zQ",
        "colab_type": "code",
        "colab": {
          "base_uri": "https://localhost:8080/",
          "height": 71
        },
        "outputId": "e4147cab-9dfa-4f6b-d3ff-c6ad22374cf0"
      },
      "source": [
        "a=[]\n",
        "for i in range(1,201):\n",
        "    if(i%3==0):\n",
        "        a.append(i)\n",
        "print(\"Multiple of 3 upto 200 are:\")\n",
        "print(a)"
      ],
      "execution_count": 1,
      "outputs": [
        {
          "output_type": "stream",
          "text": [
            "Multiple of 3 upto 200 are:\n",
            "[3, 6, 9, 12, 15, 18, 21, 24, 27, 30, 33, 36, 39, 42, 45, 48, 51, 54, 57, 60, 63, 66, 69, 72, 75, 78, 81, 84, 87, 90, 93, 96, 99, 102, 105, 108, 111, 114, 117, 120, 123, 126, 129, 132, 135, 138, 141, 144, 147, 150, 153, 156, 159, 162, 165, 168, 171, 174, 177, 180, 183, 186, 189, 192, 195, 198]\n"
          ],
          "name": "stdout"
        }
      ]
    },
    {
      "cell_type": "markdown",
      "metadata": {
        "id": "kv9yee-dKSoh",
        "colab_type": "text"
      },
      "source": [
        "#Python program to print the nos only divisable by 5 and 7 between 1000 and 2000 using a list( both inclusive)"
      ]
    },
    {
      "cell_type": "code",
      "metadata": {
        "id": "F2LVSHJ7KXfk",
        "colab_type": "code",
        "colab": {
          "base_uri": "https://localhost:8080/",
          "height": 71
        },
        "outputId": "3a2c8a4d-7c15-4c2b-ed54-62317fc0d951"
      },
      "source": [
        "a=[]\n",
        "for i in range(1000,2001):\n",
        "    if(i%5==0 and i%7==0):\n",
        "        a.append(i)\n",
        "print(\"Numbers divisible by 5 and 7 are:\")\n",
        "print(a)"
      ],
      "execution_count": 2,
      "outputs": [
        {
          "output_type": "stream",
          "text": [
            "Numbers divisible by 5 and 7 are:\n",
            "[1015, 1050, 1085, 1120, 1155, 1190, 1225, 1260, 1295, 1330, 1365, 1400, 1435, 1470, 1505, 1540, 1575, 1610, 1645, 1680, 1715, 1750, 1785, 1820, 1855, 1890, 1925, 1960, 1995]\n"
          ],
          "name": "stdout"
        }
      ]
    },
    {
      "cell_type": "markdown",
      "metadata": {
        "id": "fHCWkZlcKl4G",
        "colab_type": "text"
      },
      "source": [
        "#Python program to Add the n number of names in a list and print them alphabetically and reverse alphabetically."
      ]
    },
    {
      "cell_type": "code",
      "metadata": {
        "id": "6knxiDUHKnVH",
        "colab_type": "code",
        "colab": {
          "base_uri": "https://localhost:8080/",
          "height": 119
        },
        "outputId": "029e863e-3f97-4cce-b12a-db746aaeb5bd"
      },
      "source": [
        "a=[]\n",
        "n=int(input('Enter the number of names:'))\n",
        "for i in range(n):\n",
        "    b=input('Enter name:')\n",
        "    a.append(b)\n",
        "a.sort()\n",
        "print(a)\n",
        "a.reverse()\n",
        "print(a)"
      ],
      "execution_count": 3,
      "outputs": [
        {
          "output_type": "stream",
          "text": [
            "Enter the number of names:3\n",
            "Enter name:hanan\n",
            "Enter name:felina\n",
            "Enter name:safreena\n",
            "['felina', 'hanan', 'safreena']\n",
            "['safreena', 'hanan', 'felina']\n"
          ],
          "name": "stdout"
        }
      ]
    },
    {
      "cell_type": "markdown",
      "metadata": {
        "id": "FMW9Ch4lLMUf",
        "colab_type": "text"
      },
      "source": [
        "#Python program to Print perfect squares and divisible by 5 between 500 and 1000( (both inclusive) using list"
      ]
    },
    {
      "cell_type": "code",
      "metadata": {
        "id": "ZgYCVmXXLNo1",
        "colab_type": "code",
        "colab": {
          "base_uri": "https://localhost:8080/",
          "height": 51
        },
        "outputId": "9d5cfce3-1c4d-4d6c-f646-08f710cfd124"
      },
      "source": [
        "import math\n",
        "a=[]\n",
        "for i in range(500,1001):\n",
        "    b = math.sqrt(i)\n",
        "    if(i%5==0 and (b - math.floor(b)) == 0):\n",
        "        a.append(i)\n",
        "print(\"Numbers are:\")\n",
        "print(a)"
      ],
      "execution_count": 4,
      "outputs": [
        {
          "output_type": "stream",
          "text": [
            "Numbers are:\n",
            "[625, 900]\n"
          ],
          "name": "stdout"
        }
      ]
    },
    {
      "cell_type": "markdown",
      "metadata": {
        "id": "QK-2s5JhLWIF",
        "colab_type": "text"
      },
      "source": [
        "#Python program to Calculate the Average of the numbers in a List by getting the elements of list from keyboard ."
      ]
    },
    {
      "cell_type": "code",
      "metadata": {
        "id": "ib_opwwjLXOq",
        "colab_type": "code",
        "colab": {
          "base_uri": "https://localhost:8080/",
          "height": 136
        },
        "outputId": "2415431e-0428-46b6-980b-0807dd033692"
      },
      "source": [
        "a=[]\n",
        "n=int(input('Enter the total number of  elements:'))\n",
        "for i in range(n):\n",
        "    b=int(input('Enter the element='))\n",
        "    a.append(b)\n",
        "avg=sum(a)/n\n",
        "print(\" The Average of numbers is:\",avg)"
      ],
      "execution_count": 5,
      "outputs": [
        {
          "output_type": "stream",
          "text": [
            "Enter the total number of  elements:5\n",
            "Enter the element=29\n",
            "Enter the element=30\n",
            "Enter the element=27\n",
            "Enter the element=26\n",
            "Enter the element=30\n",
            " The Average of numbers is: 28.4\n"
          ],
          "name": "stdout"
        }
      ]
    },
    {
      "cell_type": "markdown",
      "metadata": {
        "id": "YxA2oYurLnkR",
        "colab_type": "text"
      },
      "source": [
        "#Python program to print lists of odd,even and multiples of 5 numbers from 1 to 1000 using list comprehension"
      ]
    },
    {
      "cell_type": "code",
      "metadata": {
        "id": "PgiuIrroLoto",
        "colab_type": "code",
        "colab": {
          "base_uri": "https://localhost:8080/",
          "height": 88
        },
        "outputId": "660b55f6-f7e0-4e19-f55c-f30e3e5e04e2"
      },
      "source": [
        "odd=[]\n",
        "even=[]\n",
        "mul=[]\n",
        "odd = [x for x in range(1,1001) if x % 2 == 1]\n",
        "even = [x for x in range(1,1001) if x % 2 == 0]\n",
        "mul = [x for x in range(1,1001) if x % 5 == 0]\n",
        "print(\"odd numbers:\",odd)\n",
        "print(\"even numbers:\",even)\n",
        "print(\"multiples of 5:\",mul)"
      ],
      "execution_count": 6,
      "outputs": [
        {
          "output_type": "stream",
          "text": [
            "odd numbers: [1, 3, 5, 7, 9, 11, 13, 15, 17, 19, 21, 23, 25, 27, 29, 31, 33, 35, 37, 39, 41, 43, 45, 47, 49, 51, 53, 55, 57, 59, 61, 63, 65, 67, 69, 71, 73, 75, 77, 79, 81, 83, 85, 87, 89, 91, 93, 95, 97, 99, 101, 103, 105, 107, 109, 111, 113, 115, 117, 119, 121, 123, 125, 127, 129, 131, 133, 135, 137, 139, 141, 143, 145, 147, 149, 151, 153, 155, 157, 159, 161, 163, 165, 167, 169, 171, 173, 175, 177, 179, 181, 183, 185, 187, 189, 191, 193, 195, 197, 199, 201, 203, 205, 207, 209, 211, 213, 215, 217, 219, 221, 223, 225, 227, 229, 231, 233, 235, 237, 239, 241, 243, 245, 247, 249, 251, 253, 255, 257, 259, 261, 263, 265, 267, 269, 271, 273, 275, 277, 279, 281, 283, 285, 287, 289, 291, 293, 295, 297, 299, 301, 303, 305, 307, 309, 311, 313, 315, 317, 319, 321, 323, 325, 327, 329, 331, 333, 335, 337, 339, 341, 343, 345, 347, 349, 351, 353, 355, 357, 359, 361, 363, 365, 367, 369, 371, 373, 375, 377, 379, 381, 383, 385, 387, 389, 391, 393, 395, 397, 399, 401, 403, 405, 407, 409, 411, 413, 415, 417, 419, 421, 423, 425, 427, 429, 431, 433, 435, 437, 439, 441, 443, 445, 447, 449, 451, 453, 455, 457, 459, 461, 463, 465, 467, 469, 471, 473, 475, 477, 479, 481, 483, 485, 487, 489, 491, 493, 495, 497, 499, 501, 503, 505, 507, 509, 511, 513, 515, 517, 519, 521, 523, 525, 527, 529, 531, 533, 535, 537, 539, 541, 543, 545, 547, 549, 551, 553, 555, 557, 559, 561, 563, 565, 567, 569, 571, 573, 575, 577, 579, 581, 583, 585, 587, 589, 591, 593, 595, 597, 599, 601, 603, 605, 607, 609, 611, 613, 615, 617, 619, 621, 623, 625, 627, 629, 631, 633, 635, 637, 639, 641, 643, 645, 647, 649, 651, 653, 655, 657, 659, 661, 663, 665, 667, 669, 671, 673, 675, 677, 679, 681, 683, 685, 687, 689, 691, 693, 695, 697, 699, 701, 703, 705, 707, 709, 711, 713, 715, 717, 719, 721, 723, 725, 727, 729, 731, 733, 735, 737, 739, 741, 743, 745, 747, 749, 751, 753, 755, 757, 759, 761, 763, 765, 767, 769, 771, 773, 775, 777, 779, 781, 783, 785, 787, 789, 791, 793, 795, 797, 799, 801, 803, 805, 807, 809, 811, 813, 815, 817, 819, 821, 823, 825, 827, 829, 831, 833, 835, 837, 839, 841, 843, 845, 847, 849, 851, 853, 855, 857, 859, 861, 863, 865, 867, 869, 871, 873, 875, 877, 879, 881, 883, 885, 887, 889, 891, 893, 895, 897, 899, 901, 903, 905, 907, 909, 911, 913, 915, 917, 919, 921, 923, 925, 927, 929, 931, 933, 935, 937, 939, 941, 943, 945, 947, 949, 951, 953, 955, 957, 959, 961, 963, 965, 967, 969, 971, 973, 975, 977, 979, 981, 983, 985, 987, 989, 991, 993, 995, 997, 999]\n",
            "even numbers: [2, 4, 6, 8, 10, 12, 14, 16, 18, 20, 22, 24, 26, 28, 30, 32, 34, 36, 38, 40, 42, 44, 46, 48, 50, 52, 54, 56, 58, 60, 62, 64, 66, 68, 70, 72, 74, 76, 78, 80, 82, 84, 86, 88, 90, 92, 94, 96, 98, 100, 102, 104, 106, 108, 110, 112, 114, 116, 118, 120, 122, 124, 126, 128, 130, 132, 134, 136, 138, 140, 142, 144, 146, 148, 150, 152, 154, 156, 158, 160, 162, 164, 166, 168, 170, 172, 174, 176, 178, 180, 182, 184, 186, 188, 190, 192, 194, 196, 198, 200, 202, 204, 206, 208, 210, 212, 214, 216, 218, 220, 222, 224, 226, 228, 230, 232, 234, 236, 238, 240, 242, 244, 246, 248, 250, 252, 254, 256, 258, 260, 262, 264, 266, 268, 270, 272, 274, 276, 278, 280, 282, 284, 286, 288, 290, 292, 294, 296, 298, 300, 302, 304, 306, 308, 310, 312, 314, 316, 318, 320, 322, 324, 326, 328, 330, 332, 334, 336, 338, 340, 342, 344, 346, 348, 350, 352, 354, 356, 358, 360, 362, 364, 366, 368, 370, 372, 374, 376, 378, 380, 382, 384, 386, 388, 390, 392, 394, 396, 398, 400, 402, 404, 406, 408, 410, 412, 414, 416, 418, 420, 422, 424, 426, 428, 430, 432, 434, 436, 438, 440, 442, 444, 446, 448, 450, 452, 454, 456, 458, 460, 462, 464, 466, 468, 470, 472, 474, 476, 478, 480, 482, 484, 486, 488, 490, 492, 494, 496, 498, 500, 502, 504, 506, 508, 510, 512, 514, 516, 518, 520, 522, 524, 526, 528, 530, 532, 534, 536, 538, 540, 542, 544, 546, 548, 550, 552, 554, 556, 558, 560, 562, 564, 566, 568, 570, 572, 574, 576, 578, 580, 582, 584, 586, 588, 590, 592, 594, 596, 598, 600, 602, 604, 606, 608, 610, 612, 614, 616, 618, 620, 622, 624, 626, 628, 630, 632, 634, 636, 638, 640, 642, 644, 646, 648, 650, 652, 654, 656, 658, 660, 662, 664, 666, 668, 670, 672, 674, 676, 678, 680, 682, 684, 686, 688, 690, 692, 694, 696, 698, 700, 702, 704, 706, 708, 710, 712, 714, 716, 718, 720, 722, 724, 726, 728, 730, 732, 734, 736, 738, 740, 742, 744, 746, 748, 750, 752, 754, 756, 758, 760, 762, 764, 766, 768, 770, 772, 774, 776, 778, 780, 782, 784, 786, 788, 790, 792, 794, 796, 798, 800, 802, 804, 806, 808, 810, 812, 814, 816, 818, 820, 822, 824, 826, 828, 830, 832, 834, 836, 838, 840, 842, 844, 846, 848, 850, 852, 854, 856, 858, 860, 862, 864, 866, 868, 870, 872, 874, 876, 878, 880, 882, 884, 886, 888, 890, 892, 894, 896, 898, 900, 902, 904, 906, 908, 910, 912, 914, 916, 918, 920, 922, 924, 926, 928, 930, 932, 934, 936, 938, 940, 942, 944, 946, 948, 950, 952, 954, 956, 958, 960, 962, 964, 966, 968, 970, 972, 974, 976, 978, 980, 982, 984, 986, 988, 990, 992, 994, 996, 998, 1000]\n",
            "multiples of 5: [5, 10, 15, 20, 25, 30, 35, 40, 45, 50, 55, 60, 65, 70, 75, 80, 85, 90, 95, 100, 105, 110, 115, 120, 125, 130, 135, 140, 145, 150, 155, 160, 165, 170, 175, 180, 185, 190, 195, 200, 205, 210, 215, 220, 225, 230, 235, 240, 245, 250, 255, 260, 265, 270, 275, 280, 285, 290, 295, 300, 305, 310, 315, 320, 325, 330, 335, 340, 345, 350, 355, 360, 365, 370, 375, 380, 385, 390, 395, 400, 405, 410, 415, 420, 425, 430, 435, 440, 445, 450, 455, 460, 465, 470, 475, 480, 485, 490, 495, 500, 505, 510, 515, 520, 525, 530, 535, 540, 545, 550, 555, 560, 565, 570, 575, 580, 585, 590, 595, 600, 605, 610, 615, 620, 625, 630, 635, 640, 645, 650, 655, 660, 665, 670, 675, 680, 685, 690, 695, 700, 705, 710, 715, 720, 725, 730, 735, 740, 745, 750, 755, 760, 765, 770, 775, 780, 785, 790, 795, 800, 805, 810, 815, 820, 825, 830, 835, 840, 845, 850, 855, 860, 865, 870, 875, 880, 885, 890, 895, 900, 905, 910, 915, 920, 925, 930, 935, 940, 945, 950, 955, 960, 965, 970, 975, 980, 985, 990, 995, 1000]\n"
          ],
          "name": "stdout"
        }
      ]
    },
    {
      "cell_type": "markdown",
      "metadata": {
        "id": "hFe4xaO1LzRm",
        "colab_type": "text"
      },
      "source": [
        "##TUPLES PROGRAMS"
      ]
    },
    {
      "cell_type": "markdown",
      "metadata": {
        "id": "9bSNXL62L85d",
        "colab_type": "text"
      },
      "source": [
        "#Python Program to Create a List of Tuples with the First Element as the Number and Second Element as the Square of the Number"
      ]
    },
    {
      "cell_type": "code",
      "metadata": {
        "id": "UWr_SzIOL-in",
        "colab_type": "code",
        "colab": {
          "base_uri": "https://localhost:8080/",
          "height": 68
        },
        "outputId": "1e5c7a68-2db3-4167-8cdc-e7e3a36e23de"
      },
      "source": [
        "l_range=int(input(\"Enter the lower range:\"))\n",
        "u_range=int(input(\"Enter the upper range:\"))\n",
        "a=[(x,x**2) for x in range(l_range,u_range+1)]\n",
        "print(a)"
      ],
      "execution_count": 7,
      "outputs": [
        {
          "output_type": "stream",
          "text": [
            "Enter the lower range:2\n",
            "Enter the upper range:8\n",
            "[(2, 4), (3, 9), (4, 16), (5, 25), (6, 36), (7, 49), (8, 64)]\n"
          ],
          "name": "stdout"
        }
      ]
    },
    {
      "cell_type": "markdown",
      "metadata": {
        "id": "mdbkz8CHMZJL",
        "colab_type": "text"
      },
      "source": [
        "#Write python program to have a list of words to sort them from shortest to longest using list of tuples¶"
      ]
    },
    {
      "cell_type": "code",
      "metadata": {
        "id": "XkiGEXIHMapp",
        "colab_type": "code",
        "colab": {
          "base_uri": "https://localhost:8080/",
          "height": 34
        },
        "outputId": "5f5574c5-e2ba-4bd9-cfb0-d71b97b666f3"
      },
      "source": [
        "txt = 'but soft what light in yonder window breaks'\n",
        "words = txt.split()\n",
        "t = list()\n",
        "for word in words:\n",
        "   t.append((len(word), word))\n",
        "t.sort(reverse=False)\n",
        "\n",
        "res = list()\n",
        "for length, word in t:\n",
        "    res.append(word)\n",
        "\n",
        "print(res)"
      ],
      "execution_count": 8,
      "outputs": [
        {
          "output_type": "stream",
          "text": [
            "['in', 'but', 'soft', 'what', 'light', 'breaks', 'window', 'yonder']\n"
          ],
          "name": "stdout"
        }
      ]
    },
    {
      "cell_type": "markdown",
      "metadata": {
        "id": "6087Rf_iMlTy",
        "colab_type": "text"
      },
      "source": [
        "#Write python program to get a list of tuples of Rollno,Name for 5 students through keyboard and sort them Rollno wise ascending order.¶"
      ]
    },
    {
      "cell_type": "code",
      "metadata": {
        "id": "A3Fy0uw5Mmuy",
        "colab_type": "code",
        "colab": {
          "base_uri": "https://localhost:8080/",
          "height": 221
        },
        "outputId": "758fc458-d522-49fb-dae2-e6d37408b7de"
      },
      "source": [
        "a=[(input('Enter the Rollno:'),input('Enter the NAme:')) for i in range(5)]\n",
        "print(a)\n",
        "n = len(a) \n",
        "for i in range(n): \n",
        "    for j in range(n-i-1):   \n",
        "        if a[j][0] > a[j + 1][0]: \n",
        "            a[j], a[j + 1] = a[j + 1], a[j] \n",
        "print(a)"
      ],
      "execution_count": 10,
      "outputs": [
        {
          "output_type": "stream",
          "text": [
            "Enter the Rollno:7\n",
            "Enter the NAme:Hanan\n",
            "Enter the Rollno:13\n",
            "Enter the NAme:felina\n",
            "Enter the Rollno:30\n",
            "Enter the NAme:safreena\n",
            "Enter the Rollno:25\n",
            "Enter the NAme:felomina\n",
            "Enter the Rollno:43\n",
            "Enter the NAme:salman\n",
            "[('7', 'Hanan'), ('13', 'felina'), ('30', 'safreena'), ('25', 'felomina'), ('43', 'salman')]\n",
            "[('13', 'felina'), ('25', 'felomina'), ('30', 'safreena'), ('43', 'salman'), ('7', 'Hanan')]\n"
          ],
          "name": "stdout"
        }
      ]
    },
    {
      "cell_type": "markdown",
      "metadata": {
        "id": "QV-U57kZNMKt",
        "colab_type": "text"
      },
      "source": [
        "#Write python program to get a list of tuples of Rollno,Name for 5 students through keyboard and sort them by Rollno wise descending order¶"
      ]
    },
    {
      "cell_type": "code",
      "metadata": {
        "id": "x7e7XIzTNNsy",
        "colab_type": "code",
        "colab": {
          "base_uri": "https://localhost:8080/",
          "height": 221
        },
        "outputId": "a8791c0b-d471-4d59-84e7-7f4eaa785942"
      },
      "source": [
        "a=[(input('Enter the Rollno:'),input('Enter the NAme:')) for i in range(5)]\n",
        "print(a)\n",
        "n = len(a) \n",
        "for i in range(n): \n",
        "    for j in range(n-i-1):   \n",
        "        if a[j][0] < a[j + 1][0]: \n",
        "            a[j], a[j + 1] = a[j + 1], a[j] \n",
        "print(a)"
      ],
      "execution_count": 11,
      "outputs": [
        {
          "output_type": "stream",
          "text": [
            "Enter the Rollno:7\n",
            "Enter the NAme:Hanan\n",
            "Enter the Rollno:13\n",
            "Enter the NAme:Felina\n",
            "Enter the Rollno:30\n",
            "Enter the NAme:Safreena\n",
            "Enter the Rollno:25\n",
            "Enter the NAme:Felomina\n",
            "Enter the Rollno:43\n",
            "Enter the NAme:Salman\n",
            "[('7', 'Hanan'), ('13', 'Felina'), ('30', 'Safreena'), ('25', 'Felomina'), ('43', 'Salman')]\n",
            "[('7', 'Hanan'), ('43', 'Salman'), ('30', 'Safreena'), ('25', 'Felomina'), ('13', 'Felina')]\n"
          ],
          "name": "stdout"
        }
      ]
    },
    {
      "cell_type": "markdown",
      "metadata": {
        "id": "istjKebLNvAQ",
        "colab_type": "text"
      },
      "source": [
        "#Write python program to get a list of tuples of Rollno,Name for 5 students through keyboard and sort them by Name wise ascending order"
      ]
    },
    {
      "cell_type": "code",
      "metadata": {
        "id": "fZlH2hLZNzn1",
        "colab_type": "code",
        "colab": {
          "base_uri": "https://localhost:8080/",
          "height": 221
        },
        "outputId": "b2934ae9-d456-405a-ed8c-bbf6a4172585"
      },
      "source": [
        "\n",
        "a=[(input('Enter the Rollno:'),input('Enter the NAme:')) for i in range(5)]\n",
        "print(a)\n",
        "n = len(a) \n",
        "for i in range(0, n):  \n",
        "        for j in range(0, n-i-1):  \n",
        "            if (a[j][1] > a[j + 1][1]):  \n",
        "                temp = a[j]  \n",
        "                a[j]= a[j + 1]  \n",
        "                a[j + 1]= temp  \n",
        "print(a)"
      ],
      "execution_count": 12,
      "outputs": [
        {
          "output_type": "stream",
          "text": [
            "Enter the Rollno:7\n",
            "Enter the NAme:Hanan\n",
            "Enter the Rollno:13\n",
            "Enter the NAme:Felina\n",
            "Enter the Rollno:30\n",
            "Enter the NAme:Safreena\n",
            "Enter the Rollno:25\n",
            "Enter the NAme:Felomina\n",
            "Enter the Rollno:4\n",
            "Enter the NAme:Salman\n",
            "[('7', 'Hanan'), ('13', 'Felina'), ('30', 'Safreena'), ('25', 'Felomina'), ('4', 'Salman')]\n",
            "[('13', 'Felina'), ('25', 'Felomina'), ('7', 'Hanan'), ('30', 'Safreena'), ('4', 'Salman')]\n"
          ],
          "name": "stdout"
        }
      ]
    },
    {
      "cell_type": "markdown",
      "metadata": {
        "id": "RXd4VAd3OJKI",
        "colab_type": "text"
      },
      "source": [
        "#Write python program to get a list of tuples of Rollno,Name for 5 students through keyboard and sort them by Name wise descending order"
      ]
    },
    {
      "cell_type": "code",
      "metadata": {
        "id": "MBPjzuRaOMtJ",
        "colab_type": "code",
        "colab": {
          "base_uri": "https://localhost:8080/",
          "height": 221
        },
        "outputId": "e92a60ab-b5e0-4bb3-d040-cbefcc4af90a"
      },
      "source": [
        "a=[(input('Enter the Rollno:'),input('Enter the NAme:')) for i in range(5)]\n",
        "print(a)\n",
        "n = len(a) \n",
        "for i in range(0, n):  \n",
        "        for j in range(0, n-i-1):  \n",
        "            if (a[j][1] < a[j + 1][1]):  \n",
        "                temp = a[j]  \n",
        "                a[j]= a[j + 1]  \n",
        "                a[j + 1]= temp  \n",
        "print(a)"
      ],
      "execution_count": 13,
      "outputs": [
        {
          "output_type": "stream",
          "text": [
            "Enter the Rollno:10\n",
            "Enter the NAme:Safwan\n",
            "Enter the Rollno:19\n",
            "Enter the NAme:Salman\n",
            "Enter the Rollno:28\n",
            "Enter the NAme:Tanziya\n",
            "Enter the Rollno:33\n",
            "Enter the NAme:Isha\n",
            "Enter the Rollno:41\n",
            "Enter the NAme:Felina\n",
            "[('10', 'Safwan'), ('19', 'Salman'), ('28', 'Tanziya'), ('33', 'Isha'), ('41', 'Felina')]\n",
            "[('28', 'Tanziya'), ('19', 'Salman'), ('10', 'Safwan'), ('33', 'Isha'), ('41', 'Felina')]\n"
          ],
          "name": "stdout"
        }
      ]
    }
  ]
}