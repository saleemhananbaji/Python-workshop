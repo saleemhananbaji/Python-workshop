{
  "nbformat": 4,
  "nbformat_minor": 0,
  "metadata": {
    "colab": {
      "name": "Untitled0.ipynb",
      "provenance": [],
      "collapsed_sections": [],
      "authorship_tag": "ABX9TyPsq4Fuayosz3r59JcxK7IA",
      "include_colab_link": true
    },
    "kernelspec": {
      "name": "python3",
      "display_name": "Python 3"
    }
  },
  "cells": [
    {
      "cell_type": "markdown",
      "metadata": {
        "id": "view-in-github",
        "colab_type": "text"
      },
      "source": [
        "<a href=\"https://colab.research.google.com/github/saleemhananbaji/Python-workshop/blob/master/Untitled0.ipynb\" target=\"_parent\"><img src=\"https://colab.research.google.com/assets/colab-badge.svg\" alt=\"Open In Colab\"/></a>"
      ]
    },
    {
      "cell_type": "code",
      "metadata": {
        "id": "aIL9o8QCkdf3",
        "colab_type": "code",
        "colab": {}
      },
      "source": [
        ""
      ],
      "execution_count": null,
      "outputs": []
    },
    {
      "cell_type": "code",
      "metadata": {
        "id": "he07ycu-kgmj",
        "colab_type": "code",
        "colab": {}
      },
      "source": [
        ""
      ],
      "execution_count": null,
      "outputs": []
    },
    {
      "cell_type": "markdown",
      "metadata": {
        "id": "EHFF0yggkhRR",
        "colab_type": "text"
      },
      "source": [
        "#Find the compound interest for the given p,n,r (formula : p(1+n*r/100)n )"
      ]
    },
    {
      "cell_type": "code",
      "metadata": {
        "id": "zfNzYZ-Tk8ef",
        "colab_type": "code",
        "colab": {
          "base_uri": "https://localhost:8080/",
          "height": 102
        },
        "outputId": "8fc36e2b-d7f3-49ab-e342-b4fb1489a859"
      },
      "source": [
        "import cmath\n",
        "\n",
        "p = float(input('Enter p: '))\n",
        "n = float(input('Enter n: '))\n",
        "r = float(input('Enter r: '))\n",
        "\n",
        "# calculate the compound interest\n",
        "CI = p * (pow((1 + n*r/ 100), n))\n",
        "print(\"Compound Interest is:\")\n",
        "print(CI)"
      ],
      "execution_count": 2,
      "outputs": [
        {
          "output_type": "stream",
          "text": [
            "Enter p: 2500\n",
            "Enter n: 2\n",
            "Enter r: 3.5\n",
            "Compound Interest is:\n",
            "2862.25\n"
          ],
          "name": "stdout"
        }
      ]
    },
    {
      "cell_type": "markdown",
      "metadata": {
        "id": "VNn6KzdVmwSJ",
        "colab_type": "text"
      },
      "source": [
        "#Convert centegrade to farenheit ( f= 9/5*c+32)"
      ]
    },
    {
      "cell_type": "code",
      "metadata": {
        "id": "BRrDIhAQm9DC",
        "colab_type": "code",
        "colab": {
          "base_uri": "https://localhost:8080/",
          "height": 51
        },
        "outputId": "d47a939d-cdf7-410c-d022-6e086e9c4775"
      },
      "source": [
        "c = float(input(\"Enter temperature in celsius: \"))\n",
        "f= (9/5*c) + 32\n",
        "print('%.2f Celcius is: %0.2f Fahrenheit' %(c, f))\n"
      ],
      "execution_count": 3,
      "outputs": [
        {
          "output_type": "stream",
          "text": [
            "Enter temperature in celsius: 28.4\n",
            "28.40 Celcius is: 83.12 Fahrenheit\n"
          ],
          "name": "stdout"
        }
      ]
    },
    {
      "cell_type": "markdown",
      "metadata": {
        "id": "BxRMPU2cnY2h",
        "colab_type": "text"
      },
      "source": [
        "#Find the greater of two nos"
      ]
    },
    {
      "cell_type": "code",
      "metadata": {
        "id": "pmur_afjne8t",
        "colab_type": "code",
        "colab": {
          "base_uri": "https://localhost:8080/",
          "height": 68
        },
        "outputId": "5c32ac30-fd6b-4be2-f1e2-3f0725044098"
      },
      "source": [
        "a = int(input(\"Enter the first number: \"))\n",
        "b = int(input(\"Enter the second number: \"))\n",
        "if(a >= b):\n",
        "  print(a, \"is greater\")\n",
        "else:\n",
        "  print(b, \"is greater\")"
      ],
      "execution_count": 4,
      "outputs": [
        {
          "output_type": "stream",
          "text": [
            "Enter the first number: 14\n",
            "Enter the second number: 67\n",
            "67 is greater\n"
          ],
          "name": "stdout"
        }
      ]
    },
    {
      "cell_type": "markdown",
      "metadata": {
        "id": "g5h8XWBknvf8",
        "colab_type": "text"
      },
      "source": [
        "#Write a program for finding surface areas of cylinder and cone (2PIrrh, 1/3PIrrh) using function."
      ]
    },
    {
      "cell_type": "code",
      "metadata": {
        "id": "SpAuwWIvn1vz",
        "colab_type": "code",
        "colab": {
          "base_uri": "https://localhost:8080/",
          "height": 119
        },
        "outputId": "7c248307-f61f-495d-c222-6c238a68dbdd"
      },
      "source": [
        "PI=3.14\n",
        "def cylinder(r,h):\n",
        "    return(2*PI*r*r*h)\n",
        "def cone(r,h):\n",
        "    return(1/3 * PI*r*r*h)\n",
        "r=float(input('Enter the radius of cylinder: '))\n",
        "h=float(input('Enter the height of the cylinder: '))\n",
        "print(\"Surface area of cylinder is\",cylinder(r,h))\n",
        "\n",
        "r=float(input('Enter the radius of cone: '))\n",
        "h=float(input('Enter the height of the cone: '))\n",
        "print(\"Surface area of cone is\",cone(r,h))\n"
      ],
      "execution_count": 5,
      "outputs": [
        {
          "output_type": "stream",
          "text": [
            "Enter the radius of cylinder: 2\n",
            "Enter the height of the cylinder: 4\n",
            "Surface area of cylinder is 100.48\n",
            "Enter the radius of cone: 3\n",
            "Enter the height of the cone: 6\n",
            "Surface area of cone is 56.51999999999999\n"
          ],
          "name": "stdout"
        }
      ]
    },
    {
      "cell_type": "markdown",
      "metadata": {
        "id": "w2UzH9p3oPED",
        "colab_type": "text"
      },
      "source": [
        "#Find the greatest of four nos ( using ‘and’ operator) using function."
      ]
    },
    {
      "cell_type": "code",
      "metadata": {
        "id": "iO7LXNJroUPv",
        "colab_type": "code",
        "colab": {
          "base_uri": "https://localhost:8080/",
          "height": 102
        },
        "outputId": "3f143a40-8bf0-4bb5-af49-761973245424"
      },
      "source": [
        "def greatest(a,b,c,d):\n",
        "  if(a>b and a>c and a>d):\n",
        "    return a\n",
        "  elif(b>a and b>c and b>d):\n",
        "    return b \n",
        "  elif(c>a and c>b and c>d):\n",
        "    return c\n",
        "  else:\n",
        "    return d\n",
        "a=int(input('Enter the 1st number: '))\n",
        "b=int(input('Enter the 2nd number: '))\n",
        "c=int(input('Enter the 3rd number: '))\n",
        "d=int(input('Enter the 4th number: '))\n",
        "print(\"greatest among the four numbers is:\", greatest(a,b,c,d))"
      ],
      "execution_count": 6,
      "outputs": [
        {
          "output_type": "stream",
          "text": [
            "Enter the 1st number: 1\n",
            "Enter the 2nd number: 89\n",
            "Enter the 3rd number: 34\n",
            "Enter the 4th number: 2\n",
            "greatest among the four numbers is: 89\n"
          ],
          "name": "stdout"
        }
      ]
    },
    {
      "cell_type": "markdown",
      "metadata": {
        "id": "sRlaPX8Bomrl",
        "colab_type": "text"
      },
      "source": [
        "#Write a menu program to perform the operations ( ODDorEven, Factorial, ODDNoUptoN, PrimeUptoN ) using functions for two nos with menu choice"
      ]
    },
    {
      "cell_type": "code",
      "metadata": {
        "id": "6MfJ87Wqotxs",
        "colab_type": "code",
        "colab": {
          "base_uri": "https://localhost:8080/",
          "height": 1000
        },
        "outputId": "92f968a9-db3f-4fde-fa7a-768200086989"
      },
      "source": [
        "loop = 1 \n",
        "choice = 0 \n",
        "def ODDorEven(m,n):\n",
        "    if(m%2==0):\n",
        "        print(m,\"is even\")\n",
        "    else:\n",
        "        print(m,\"is odd\")\n",
        "    if(n%2==0):\n",
        "        print(n,\"is even\")\n",
        "    else:\n",
        "        print(n,\"is odd\")\n",
        "def Factorial(m,n):\n",
        "    fac = 1\n",
        "    for i in range(1, m + 1):\n",
        "          fac = fac * i\n",
        "    print(\"factorial {0} is:\".format(m),fac)\n",
        "    fac = 1\n",
        "    for i in range(1, n + 1):\n",
        "          fac = fac * i\n",
        "    print(\"factorial {0} is:\".format(n),fac)\n",
        "def ODDNoUptoN(m,n):\n",
        "    print(\"odd numbers upto\",m,\"is\")\n",
        "    for i in range(m+1):\n",
        "        if(i%2!=0):\n",
        "            print(i)\n",
        "    print(\"odd numbers upto\",n,\"is\")\n",
        "    for i in range(n+1):\n",
        "        if(i%2!=0):\n",
        "            print(i)\n",
        "def PrimeUptoN(m,n):\n",
        "    print(\"prime numbers upto {0} are:\".format(m))\n",
        "    for i in range(2, m + 1):\n",
        "        if(i==2):\n",
        "            print(i)\n",
        "        j=2\n",
        "        for j in range(2, i):\n",
        "            if(i % j == 0):\n",
        "                j = i\n",
        "                break;\n",
        "        if(j != i):\n",
        "            print(i)\n",
        "    print(\"prime numbers upto {0} are:\".format(n))\n",
        "    for i in range(2,n + 1): \n",
        "        if(i==2):\n",
        "            print(i) \n",
        "        j=2\n",
        "        for j in range(2,i):  \n",
        "            if(i % j == 0):\n",
        "                j = i\n",
        "                break;\n",
        "        if(j != i):\n",
        "            print(i)\n",
        "while loop == 1:\n",
        "    print (\"Enter your choice:\")\n",
        "    print (\" \")\n",
        "    print(\"1) Odd or Even\")\n",
        "    print(\"2) Factorial\")\n",
        "    print(\"3) Print odd numbers\")\n",
        "    print(\"4) Prime number\")\n",
        "    print(\"5) Quit \")\n",
        "    print(\" \")\n",
        "    try:\n",
        "        choice = int(input(\"Choose your option: \"))\n",
        "    except:\n",
        "        print('please enter a valid number for option')\n",
        "    print(\" \")\n",
        "    print(\" \")\n",
        "    if choice == 1:\n",
        "        x = int(input('Enter 1st no: '))\n",
        "        y = int(input('Enter 2nd no: '))\n",
        "        ODDorEven(x,y)\n",
        " \n",
        "    elif choice == 2:\n",
        "        x = int(input('Enter 1st no: '))\n",
        "        y = int(input('Enter 2nd no: '))\n",
        "        Factorial(x,y)\n",
        "  \n",
        "    elif choice == 3:\n",
        "        x = int(input('Enter 1st no: '))\n",
        "        y = int(input('Enter 2nd no: '))\n",
        "        ODDNoUptoN(x,y)\n",
        " \n",
        "    elif choice == 4:\n",
        "        x = int(input('Enter 1st no: '))\n",
        "        y = int(input('Enter 2nd no: '))\n",
        "        PrimeUptoN(x,y)\n",
        "        \n",
        "    elif choice == 5:\n",
        "        loop = 0\n",
        "     \n",
        "    else:\n",
        "        print(\"please choice a valid option from 1 to 5\")\n",
        "        choice=0"
      ],
      "execution_count": 7,
      "outputs": [
        {
          "output_type": "stream",
          "text": [
            "Enter your choice:\n",
            " \n",
            "1) Odd or Even\n",
            "2) Factorial\n",
            "3) Print odd numbers\n",
            "4) Prime number\n",
            "5) Quit \n",
            " \n",
            "Choose your option: 1\n",
            " \n",
            " \n",
            "Enter 1st no: 7\n",
            "Enter 2nd no: 10\n",
            "7 is odd\n",
            "10 is even\n",
            "Enter your choice:\n",
            " \n",
            "1) Odd or Even\n",
            "2) Factorial\n",
            "3) Print odd numbers\n",
            "4) Prime number\n",
            "5) Quit \n",
            " \n",
            "Choose your option: 2\n",
            " \n",
            " \n",
            "Enter 1st no: 5\n",
            "Enter 2nd no: 3\n",
            "factorial 5 is: 120\n",
            "factorial 3 is: 6\n",
            "Enter your choice:\n",
            " \n",
            "1) Odd or Even\n",
            "2) Factorial\n",
            "3) Print odd numbers\n",
            "4) Prime number\n",
            "5) Quit \n",
            " \n",
            "Choose your option: 3\n",
            " \n",
            " \n",
            "Enter 1st no: 3\n",
            "Enter 2nd no: 6\n",
            "odd numbers upto 3 is\n",
            "1\n",
            "3\n",
            "odd numbers upto 6 is\n",
            "1\n",
            "3\n",
            "5\n",
            "Enter your choice:\n",
            " \n",
            "1) Odd or Even\n",
            "2) Factorial\n",
            "3) Print odd numbers\n",
            "4) Prime number\n",
            "5) Quit \n",
            " \n",
            "Choose your option: 4\n",
            " \n",
            " \n",
            "Enter 1st no: 7\n",
            "Enter 2nd no: 14\n",
            "prime numbers upto 7 are:\n",
            "2\n",
            "3\n",
            "5\n",
            "7\n",
            "prime numbers upto 14 are:\n",
            "2\n",
            "3\n",
            "5\n",
            "7\n",
            "11\n",
            "13\n",
            "Enter your choice:\n",
            " \n",
            "1) Odd or Even\n",
            "2) Factorial\n",
            "3) Print odd numbers\n",
            "4) Prime number\n",
            "5) Quit \n",
            " \n",
            "Choose your option: 5\n",
            " \n",
            " \n"
          ],
          "name": "stdout"
        }
      ]
    }
  ]
}